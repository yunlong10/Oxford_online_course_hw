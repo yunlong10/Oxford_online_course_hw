{
 "cells": [
  {
   "cell_type": "code",
   "execution_count": 12,
   "metadata": {},
   "outputs": [],
   "source": [
    "import numpy as np\n",
    "import matplotlib.pyplot as plt\n",
    "\n",
    "\n",
    "# !wget https://www.dropbox.com/s/eh1kps73fp88m67/faces.dat"
   ]
  },
  {
   "cell_type": "code",
   "execution_count": 1,
   "metadata": {},
   "outputs": [],
   "source": [
    "import numpy as np\n",
    "import matplotlib.pyplot as plt"
   ]
  },
  {
   "cell_type": "code",
   "execution_count": 2,
   "metadata": {},
   "outputs": [],
   "source": [
    "\n",
    "from sympy import *"
   ]
  },
  {
   "cell_type": "code",
   "execution_count": 3,
   "metadata": {},
   "outputs": [
    {
     "name": "stdout",
     "output_type": "stream",
     "text": [
      "Matrix([[7.48461010574286e-64, 0.816496580927726, -0.500000000000000, -0.288675134594813], [0.707106781186548, -0.408248290463863, -0.500000000000000, -0.288675134594813], [-0.707106781186548, -0.408248290463863, -0.500000000000000, -0.288675134594813], [-2.92041828790221e-64, 7.55411086394732e-17, -0.500000000000000, 0.866025403784439]])\n",
      "Matrix([[0.700000000000000, 0, 0, 0], [0, 0.900000000000000, 0, 0], [0, 0, 1.00000000000000, 0], [0, 0, 0, 0.600000000000000]])\n"
     ]
    }
   ],
   "source": [
    "M = Matrix([[0.9,0,0,0.1],[0,0.8,0.1,0.1],[0,0.1,0.8,0.1],[0.1,0.1,0.1,0.7]])\n",
    " \n",
    "P,D = M.diagonalize()\n",
    "print(P)\n",
    "print(D)"
   ]
  },
  {
   "cell_type": "code",
   "execution_count": 4,
   "metadata": {},
   "outputs": [
    {
     "data": {
      "text/latex": [
       "$\\displaystyle \\left[\\begin{matrix}0.25\\\\0.25\\\\0.25\\\\0.25\\end{matrix}\\right]$"
      ],
      "text/plain": [
       "Matrix([\n",
       "[0.25],\n",
       "[0.25],\n",
       "[0.25],\n",
       "[0.25]])"
      ]
     },
     "execution_count": 4,
     "metadata": {},
     "output_type": "execute_result"
    }
   ],
   "source": [
    "P*Matrix([[0,0,0,0],[0,0,0,0],[0,0,1,0],[0,0,0,0]])*(P**-1)*Matrix([0.25,0.25,0.25,0.25])"
   ]
  },
  {
   "cell_type": "code",
   "execution_count": 5,
   "metadata": {},
   "outputs": [
    {
     "data": {
      "text/latex": [
       "$\\displaystyle \\left[\\begin{matrix}0.25\\\\0.25\\\\0.25\\\\0.25\\end{matrix}\\right]$"
      ],
      "text/plain": [
       "Matrix([\n",
       "[0.25],\n",
       "[0.25],\n",
       "[0.25],\n",
       "[0.25]])"
      ]
     },
     "execution_count": 5,
     "metadata": {},
     "output_type": "execute_result"
    }
   ],
   "source": [
    "M*Matrix([0.25,0.25,0.25,0.25])"
   ]
  },
  {
   "cell_type": "code",
   "execution_count": 12,
   "metadata": {},
   "outputs": [
    {
     "data": {
      "text/latex": [
       "$\\displaystyle \\left[\\begin{matrix}0.9 & -2.08166817117217 \\cdot 10^{-17} & -2.08166817117217 \\cdot 10^{-17} & 0.1\\\\-6.93889390390723 \\cdot 10^{-18} & 0.8 & 0.1 & 0.1\\\\-6.93889390390723 \\cdot 10^{-18} & 0.1 & 0.8 & 0.0999999999999999\\\\0.1 & 0.1 & 0.1 & 0.7\\end{matrix}\\right]$"
      ],
      "text/plain": [
       "Matrix([\n",
       "[                  0.9, -2.08166817117217e-17, -2.08166817117217e-17,                0.1],\n",
       "[-6.93889390390723e-18,                   0.8,                   0.1,                0.1],\n",
       "[-6.93889390390723e-18,                   0.1,                   0.8, 0.0999999999999999],\n",
       "[                  0.1,                   0.1,                   0.1,                0.7]])"
      ]
     },
     "execution_count": 12,
     "metadata": {},
     "output_type": "execute_result"
    }
   ],
   "source": [
    "P*D*(P**(-1))"
   ]
  },
  {
   "cell_type": "code",
   "execution_count": 13,
   "metadata": {},
   "outputs": [],
   "source": [
    "faces=np.genfromtxt('faces.dat')"
   ]
  },
  {
   "cell_type": "code",
   "execution_count": 14,
   "metadata": {},
   "outputs": [
    {
     "name": "stdout",
     "output_type": "stream",
     "text": [
      "(400, 10)\n"
     ]
    },
    {
     "data": {
      "text/plain": [
       "array([[-1556.69211597,  -170.2879445 ,  -346.06554321, ...,\n",
       "         -711.04585249,   -90.50223873,    58.91736763],\n",
       "       [ -260.36635982, -1620.75455486,   445.95784034, ...,\n",
       "         -508.52009313,  -259.59452326,   499.15022021],\n",
       "       [-1280.89374027,  -373.28781854,    54.68051574, ...,\n",
       "         -771.82666211,  -378.84971307,   145.14236816],\n",
       "       ...,\n",
       "       [  493.86529277,  -365.32668241,   834.59321413, ...,\n",
       "          409.62694058,  -675.85226968,  -337.97116519],\n",
       "       [-1249.98706108,  1959.4161341 ,  -162.38324898, ...,\n",
       "          307.5190246 ,  -263.6246285 ,  -272.95726294],\n",
       "       [ -278.42167374,   589.27766304,   287.85807587, ...,\n",
       "         -268.37989637,    56.4168801 ,  -389.83570737]])"
      ]
     },
     "execution_count": 14,
     "metadata": {},
     "output_type": "execute_result"
    }
   ],
   "source": [
    "#perfom PCA for eigenfaces, show the reconstruction of faces project on 10,100,200 principle components\n",
    "from sklearn.decomposition import PCA\n",
    "pca=PCA(n_components=10)\n",
    "faces_10=pca.fit_transform(faces)\n",
    "print(faces_10.shape)\n",
    "faces_10"
   ]
  },
  {
   "cell_type": "code",
   "execution_count": 15,
   "metadata": {},
   "outputs": [
    {
     "name": "stdout",
     "output_type": "stream",
     "text": [
      "(400, 100)\n"
     ]
    },
    {
     "data": {
      "text/plain": [
       "array([[-1556.69211597,  -170.2879445 ,  -346.06554292, ...,\n",
       "          133.09397695,   -75.0218888 ,    35.47189526],\n",
       "       [ -260.36635982, -1620.75455487,   445.95784021, ...,\n",
       "          -50.89643738,   -13.98840432,   106.71135672],\n",
       "       [-1280.89374027,  -373.28781855,    54.68051645, ...,\n",
       "           49.79686411,    29.07825724,   -42.06235445],\n",
       "       ...,\n",
       "       [  493.86529277,  -365.32668241,   834.59321427, ...,\n",
       "          -46.29957541,   -19.50506738,   -23.42764332],\n",
       "       [-1249.98706108,  1959.4161341 ,  -162.38324892, ...,\n",
       "           66.39257201,   -22.47889581,    27.78975282],\n",
       "       [ -278.42167374,   589.27766304,   287.85807548, ...,\n",
       "          -14.04075517,   -30.64555471,    17.72692018]])"
      ]
     },
     "execution_count": 15,
     "metadata": {},
     "output_type": "execute_result"
    }
   ],
   "source": [
    "pca=PCA(n_components=100)\n",
    "faces_100=pca.fit_transform(faces)\n",
    "print(faces_100.shape)\n",
    "faces_100"
   ]
  },
  {
   "cell_type": "code",
   "execution_count": 16,
   "metadata": {},
   "outputs": [
    {
     "name": "stdout",
     "output_type": "stream",
     "text": [
      "(400, 200)\n"
     ]
    },
    {
     "data": {
      "text/plain": [
       "array([[-1.55669212e+03, -1.70287944e+02, -3.46065543e+02, ...,\n",
       "         1.06905923e+01,  1.76520549e+01,  2.72222897e+01],\n",
       "       [-2.60366360e+02, -1.62075455e+03,  4.45957840e+02, ...,\n",
       "        -2.81630479e+01, -1.19517820e+01, -3.38203030e+01],\n",
       "       [-1.28089374e+03, -3.73287819e+02,  5.46805165e+01, ...,\n",
       "         1.27933794e+00, -2.13720182e+01, -5.59563609e+01],\n",
       "       ...,\n",
       "       [ 4.93865293e+02, -3.65326682e+02,  8.34593214e+02, ...,\n",
       "         1.02049694e+01, -3.65778602e+01, -4.84924348e+00],\n",
       "       [-1.24998706e+03,  1.95941613e+03, -1.62383249e+02, ...,\n",
       "         6.24557185e+00, -8.00834324e+00,  9.98794243e+00],\n",
       "       [-2.78421674e+02,  5.89277663e+02,  2.87858075e+02, ...,\n",
       "        -5.07746373e+00,  3.28963532e+01, -3.06721770e+01]])"
      ]
     },
     "execution_count": 16,
     "metadata": {},
     "output_type": "execute_result"
    }
   ],
   "source": [
    "pca=PCA(n_components=200)\n",
    "faces_200=pca.fit_transform(faces)\n",
    "print(faces_200.shape)\n",
    "faces_200"
   ]
  }
 ],
 "metadata": {
  "interpreter": {
   "hash": "f96bd63df0cf0e2d29d01f126e99165bb7898495bece9eb3e9b8a1eb60cb4075"
  },
  "kernelspec": {
   "display_name": "Python 3.8.5 64-bit ('te1': conda)",
   "language": "python",
   "name": "python3"
  },
  "language_info": {
   "codemirror_mode": {
    "name": "ipython",
    "version": 3
   },
   "file_extension": ".py",
   "mimetype": "text/x-python",
   "name": "python",
   "nbconvert_exporter": "python",
   "pygments_lexer": "ipython3",
   "version": "3.8.5"
  },
  "orig_nbformat": 4
 },
 "nbformat": 4,
 "nbformat_minor": 2
}
