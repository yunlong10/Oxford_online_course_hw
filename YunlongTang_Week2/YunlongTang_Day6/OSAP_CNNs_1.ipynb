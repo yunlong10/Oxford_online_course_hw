{
 "cells": [
  {
   "cell_type": "code",
   "execution_count": 18,
   "metadata": {},
   "outputs": [],
   "source": [
    "import torch\n",
    "import torch.nn as nn\n",
    "import torch.nn.functional as F\n",
    "import torch.optim as optim\n",
    "import numpy as np\n",
    "import matplotlib.pyplot as plt\n",
    "import time\n",
    "\n",
    "%matplotlib inline"
   ]
  },
  {
   "cell_type": "code",
   "execution_count": 19,
   "metadata": {},
   "outputs": [],
   "source": [
    "import torch\n",
    "from torchvision import transforms\n",
    "from torchvision.datasets import MNIST, CIFAR10\n",
    "\n",
    "\n",
    "# MNIST\n",
    "def mnist(batch_sz):\n",
    "    num_classes = 10\n",
    "    transform_train = transforms.Compose([\n",
    "                        transforms.RandomCrop(28, padding=4),\n",
    "                        transforms.RandomHorizontalFlip(),\n",
    "                        transforms.ToTensor(),\n",
    "                    ])\n",
    "    transform_test = transforms.Compose([\n",
    "                        transforms.ToTensor(),\n",
    "                    ])\n",
    "\n",
    "    # Training dataset\n",
    "    train_data = MNIST(root='./datasets', train=True, download=True, transform=transform_train)\n",
    "    train_loader = torch.utils.data.DataLoader(train_data, batch_size=batch_sz, shuffle=True,pin_memory=True)\n",
    "\n",
    "    # Test dataset\n",
    "    test_data = MNIST(root='./datasets', train=False, download=True, transform=transform_test)\n",
    "    test_loader = torch.utils.data.DataLoader(test_data,\n",
    "                                              batch_size=batch_sz, shuffle=False, pin_memory=True)\n",
    "\n",
    "    return train_loader, test_loader, num_classes\n",
    "\n",
    "\n",
    "# CIFAR10\n",
    "def cifar10(batch_sz):\n",
    "    num_classes = 10\n",
    "    transform_train = transforms.Compose([\n",
    "                        transforms.RandomCrop(32, padding=4),\n",
    "                        transforms.RandomHorizontalFlip(),\n",
    "                        transforms.ToTensor(),\n",
    "                    ])\n",
    "    transform_test = transforms.Compose([\n",
    "                        transforms.ToTensor(),\n",
    "                    ])\n",
    "\n",
    "    # Training dataset\n",
    "    train_data = CIFAR10(root='./datasets', train=True, download=True, transform=transform_train)\n",
    "    train_loader = torch.utils.data.DataLoader(train_data, batch_size=batch_sz,\n",
    "                                               shuffle=True, pin_memory=True)\n",
    "\n",
    "    # Test dataset\n",
    "    test_data = CIFAR10(root='./datasets', train=False, download=True, transform=transform_test)\n",
    "    test_loader = torch.utils.data.DataLoader(test_data,\n",
    "                                              batch_size=batch_sz, shuffle=False, pin_memory=True)\n",
    "\n",
    "    return train_loader, test_loader, num_classes"
   ]
  },
  {
   "cell_type": "code",
   "execution_count": 20,
   "metadata": {},
   "outputs": [],
   "source": [
    "train_loader,test_loader,_=mnist(5)"
   ]
  },
  {
   "cell_type": "code",
   "execution_count": 21,
   "metadata": {},
   "outputs": [],
   "source": [
    "#Q1: define a 2 layer simple NN for mnist digit classificaiton\n",
    "class FC(nn.Module):\n",
    "    def __init__(self):\n",
    "        super(FC,self).__init__()\n",
    "        self.fcn=nn.Sequential(\n",
    "            nn.Linear(784,64),\n",
    "            nn.ReLU(inplace=True),\n",
    "            nn.Linear(64,10),\n",
    "            nn.ReLU(inplace=True),\n",
    "\n",
    "        )\n",
    "\n",
    "    def forward(self,x):\n",
    "        x = x.view(-1, int(x.nelement() / x.shape[0]))\n",
    "        x=self.fcn(x)\n",
    "        return x\n"
   ]
  },
  {
   "cell_type": "code",
   "execution_count": 22,
   "metadata": {},
   "outputs": [],
   "source": [
    "#Q2: Define a CNN with 2 conv layer and 2 linear layers for mnist digit communication\n",
    "class CNN(nn.Module):\n",
    "    def __init__(self):\n",
    "        super(CNN,self).__init__()\n",
    "        self.conv1=nn.Conv2d(1,4,3)\n",
    "        self.conv2=nn.Conv2d(4,6,3)\n",
    "        self.l1=nn.Linear(3456,64)\n",
    "        self.l2=nn.Linear(64,10)\n",
    "\n",
    "    def forward(self,x):\n",
    "        x=torch.relu(self.conv1(x))\n",
    "        x=torch.relu(self.conv2(x))\n",
    "        x = x.view(-1, int(x.nelement() / x.shape[0]))\n",
    "        x=torch.relu(self.l1(x))\n",
    "        x=torch.relu(self.l2(x))\n",
    "        return x\n"
   ]
  },
  {
   "cell_type": "code",
   "execution_count": 23,
   "metadata": {},
   "outputs": [],
   "source": [
    "def get_accuracy(model,test_loader,device):\n",
    "    size=len(test_loader.dataset)\n",
    "    model.eval()\n",
    "    correct=0\n",
    "    with torch.no_grad():\n",
    "        for X,y in test_loader:\n",
    "            X,y=X.to(device),y.to(device)\n",
    "            pred_y=model(X)\n",
    "            correct+=(pred_y.argmax(1)==y).type(torch.float).sum().item()\n",
    "    accuracy=correct/size\n",
    "    return accuracy\n",
    "\n",
    "def train(model,train_loader,test_loader,optimizer,loss_fn,device,epochs,model_name):\n",
    "    total_time=0.0\n",
    "    for epoch in range(epochs):\n",
    "        print(f\"Epoch {epoch}-------------------------------\")\n",
    "        model.train()\n",
    "        size=len(train_loader.dataset)\n",
    "        start_time=time.time()\n",
    "        for batch_idx,(X,y) in enumerate(train_loader):\n",
    "            X,y=X.to(device),y.to(device)\n",
    "\n",
    "            pred_y=model(X)\n",
    "            loss=loss_fn(pred_y,y)\n",
    "\n",
    "            optimizer.zero_grad()\n",
    "            loss.backward()\n",
    "            optimizer.step()\n",
    "            if batch_idx%4000==0:\n",
    "                loss,current=loss.item(),batch_idx*len(X)\n",
    "                print(f\"loss:{loss:>7f}[{current:>5d}/{size:>5d}]\")\n",
    "\n",
    "        delta_time=time.time()-start_time\n",
    "        total_time+=delta_time\n",
    "        accuracy=get_accuracy(model,test_loader,device)\n",
    "        print(\"Accuracy in test set: %.3f}\"%accuracy)\n",
    "\n",
    "        torch.save(model.state_dict(),'checkpoints/'+model_name+f'/epoch-{epoch}.pth')\n",
    "    print('Time cost for training',epochs,'epochs in',device,':',total_time,'s.')\n",
    "    "
   ]
  },
  {
   "cell_type": "code",
   "execution_count": 24,
   "metadata": {},
   "outputs": [
    {
     "name": "stdout",
     "output_type": "stream",
     "text": [
      "Epoch 0-------------------------------\n",
      "loss:2.327881[    0/60000]\n",
      "loss:1.439797[20000/60000]\n",
      "loss:0.952322[40000/60000]\n",
      "Accuracy in test set: 0.774}\n",
      "Epoch 1-------------------------------\n",
      "loss:0.498963[    0/60000]\n",
      "loss:0.550277[20000/60000]\n",
      "loss:0.721883[40000/60000]\n",
      "Accuracy in test set: 0.851}\n",
      "Epoch 2-------------------------------\n",
      "loss:0.238156[    0/60000]\n",
      "loss:0.325734[20000/60000]\n",
      "loss:0.583151[40000/60000]\n",
      "Accuracy in test set: 0.867}\n",
      "Epoch 3-------------------------------\n",
      "loss:0.085052[    0/60000]\n",
      "loss:0.574877[20000/60000]\n",
      "loss:0.661814[40000/60000]\n",
      "Accuracy in test set: 0.866}\n",
      "Epoch 4-------------------------------\n",
      "loss:0.140524[    0/60000]\n",
      "loss:0.209369[20000/60000]\n",
      "loss:0.364140[40000/60000]\n",
      "Accuracy in test set: 0.872}\n",
      "Epoch 5-------------------------------\n",
      "loss:0.291146[    0/60000]\n",
      "loss:0.746031[20000/60000]\n",
      "loss:0.166712[40000/60000]\n",
      "Accuracy in test set: 0.881}\n",
      "Epoch 6-------------------------------\n",
      "loss:0.188488[    0/60000]\n",
      "loss:0.089806[20000/60000]\n",
      "loss:0.272135[40000/60000]\n",
      "Accuracy in test set: 0.889}\n",
      "Epoch 7-------------------------------\n",
      "loss:0.054556[    0/60000]\n",
      "loss:0.447423[20000/60000]\n",
      "loss:0.881981[40000/60000]\n",
      "Accuracy in test set: 0.875}\n",
      "Epoch 8-------------------------------\n",
      "loss:0.524330[    0/60000]\n",
      "loss:0.199770[20000/60000]\n",
      "loss:0.679179[40000/60000]\n",
      "Accuracy in test set: 0.896}\n",
      "Epoch 9-------------------------------\n",
      "loss:0.276864[    0/60000]\n",
      "loss:0.526010[20000/60000]\n",
      "loss:0.500212[40000/60000]\n",
      "Accuracy in test set: 0.890}\n",
      "Time cost for training 10 epochs in cpu : 322.6387884616852 s.\n"
     ]
    }
   ],
   "source": [
    "#Q3: Train both networks for 10 epochs and compare their performance \n",
    "#Q4: Compare the accuarcay of both networks on the test set\n",
    "device='cpu'\n",
    "fc=FC().to(device)\n",
    "\n",
    "optimizer = torch.optim.SGD(fc.parameters(), lr=0.01)\n",
    "loss_fn = nn.CrossEntropyLoss()\n",
    "train(fc,train_loader,test_loader,optimizer,loss_fn,device,10,'fc')"
   ]
  },
  {
   "cell_type": "code",
   "execution_count": 45,
   "metadata": {},
   "outputs": [
    {
     "name": "stdout",
     "output_type": "stream",
     "text": [
      "Epoch 0-------------------------------\n",
      "loss:2.302367[    0/60000]\n",
      "loss:1.660445[20000/60000]\n",
      "loss:0.875073[40000/60000]\n",
      "Accuracy in test set: 0.855}\n",
      "Epoch 1-------------------------------\n",
      "loss:1.134869[    0/60000]\n",
      "loss:0.262140[20000/60000]\n",
      "loss:0.460882[40000/60000]\n",
      "Accuracy in test set: 0.904}\n",
      "Epoch 2-------------------------------\n",
      "loss:0.719502[    0/60000]\n",
      "loss:0.072001[20000/60000]\n",
      "loss:1.050036[40000/60000]\n",
      "Accuracy in test set: 0.912}\n",
      "Epoch 3-------------------------------\n",
      "loss:0.646304[    0/60000]\n",
      "loss:0.273374[20000/60000]\n",
      "loss:0.006309[40000/60000]\n",
      "Accuracy in test set: 0.932}\n",
      "Epoch 4-------------------------------\n",
      "loss:0.056672[    0/60000]\n",
      "loss:0.363513[20000/60000]\n",
      "loss:0.041708[40000/60000]\n",
      "Accuracy in test set: 0.929}\n",
      "Epoch 5-------------------------------\n",
      "loss:0.798023[    0/60000]\n",
      "loss:0.007359[20000/60000]\n",
      "loss:0.028474[40000/60000]\n",
      "Accuracy in test set: 0.942}\n",
      "Epoch 6-------------------------------\n",
      "loss:0.847158[    0/60000]\n",
      "loss:0.028330[20000/60000]\n",
      "loss:0.274380[40000/60000]\n",
      "Accuracy in test set: 0.949}\n",
      "Epoch 7-------------------------------\n",
      "loss:0.026309[    0/60000]\n",
      "loss:0.000685[20000/60000]\n",
      "loss:0.006027[40000/60000]\n",
      "Accuracy in test set: 0.943}\n",
      "Epoch 8-------------------------------\n",
      "loss:0.002701[    0/60000]\n",
      "loss:0.031649[20000/60000]\n",
      "loss:0.016254[40000/60000]\n",
      "Accuracy in test set: 0.949}\n",
      "Epoch 9-------------------------------\n",
      "loss:0.020212[    0/60000]\n",
      "loss:0.004836[20000/60000]\n",
      "loss:0.014124[40000/60000]\n",
      "Accuracy in test set: 0.946}\n",
      "Time cost for training 10 epochs in cpu : 389.987774848938 s.\n"
     ]
    }
   ],
   "source": [
    "device='cpu'\n",
    "cnn=CNN().to(device)\n",
    "optimizer = torch.optim.SGD(cnn.parameters(), lr=0.01)\n",
    "loss_fn = nn.CrossEntropyLoss()\n",
    "train(cnn,train_loader,test_loader,optimizer,loss_fn,device,10,'cnn')"
   ]
  },
  {
   "cell_type": "code",
   "execution_count": 25,
   "metadata": {},
   "outputs": [
    {
     "name": "stdout",
     "output_type": "stream",
     "text": [
      "pred: 2 ; gt: 5\n",
      "pred: 3 ; gt: 5\n",
      "pred: 8 ; gt: 3\n"
     ]
    },
    {
     "data": {
      "image/png": "[encoded data removed]",
      "text/plain": [
       "<Figure size 432x288 with 1 Axes>"
      ]
     },
     "metadata": {
      "needs_background": "light"
     },
     "output_type": "display_data"
    },
    {
     "data": {
      "image/png": "[encoded data removed]",
      "text/plain": [
       "<Figure size 432x288 with 1 Axes>"
      ]
     },
     "metadata": {
      "needs_background": "light"
     },
     "output_type": "display_data"
    },
    {
     "data": {
      "image/png": "[encoded data removed]",
      "text/plain": [
       "<Figure size 432x288 with 1 Axes>"
      ]
     },
     "metadata": {
      "needs_background": "light"
     },
     "output_type": "display_data"
    }
   ],
   "source": [
    "#Q5: go through the testset and plot some samples of incorrect results\n",
    "device='cpu'\n",
    "fc=FC().to(device)\n",
    "cnn=CNN().to(device)\n",
    "\n",
    "fc.load_state_dict(torch.load('checkpoints/fc/epoch-9.pth'))\n",
    "cnn.load_state_dict(torch.load('checkpoints/cnn/epoch-9.pth'))\n",
    "\n",
    "fc.eval()\n",
    "cnn.eval()\n",
    "\n",
    "cnt=0\n",
    "for batch_idx,(X,y) in enumerate(test_loader):\n",
    "    if cnt>2:\n",
    "        break\n",
    "\n",
    "    fc_y=fc(X)\n",
    "    cnn_y=cnn(X)\n",
    "    pred_fc=fc_y.argmax(1)\n",
    "    pred_cnn=cnn_y.argmax(1)\n",
    "    for j in range(5):\n",
    "        if pred_fc[j]!=y[j]:\n",
    "            cnt+=1\n",
    "            plt.figure()\n",
    "            plt.imshow(X[j,0,:,:])\n",
    "            print('pred:',int(pred_fc[j]),'; gt:',int(y[j]))\n",
    "            break\n",
    "    for j in range(5):\n",
    "        if pred_cnn[j]!=y[j]:\n",
    "            cnt+=1\n",
    "            plt.figure()\n",
    "            plt.imshow(X[j,0,:,:])\n",
    "            print('pred:',int(pred_cnn[j]),'; gt:',int(y[j]))\n",
    "            break"
   ]
  },
  {
   "cell_type": "code",
   "execution_count": 33,
   "metadata": {},
   "outputs": [
    {
     "name": "stdout",
     "output_type": "stream",
     "text": [
      "tensor([[-2.7193e+00, -2.1193e+00, -3.4796e+00, -3.8691e+00,  1.7287e+00,\n",
      "          7.6587e-01, -4.4357e+00,  9.9788e-01,  4.7680e+00,  1.0446e-01,\n",
      "          1.0237e-01, -2.1224e+00, -5.5369e-01,  1.2651e+00, -1.8526e-01,\n",
      "          3.6613e+00,  1.7720e-01,  1.2649e+00, -2.8835e-01, -3.5003e-01,\n",
      "          1.4118e+00, -4.0313e-02,  2.0936e+00,  2.5204e+00, -3.1782e+00,\n",
      "         -3.2846e-01, -2.2891e+00,  1.1355e+00,  2.5412e-01, -2.8621e-01,\n",
      "         -1.3694e+00,  4.9118e-01,  4.4491e+00, -1.2165e+00,  7.0441e-01,\n",
      "          4.0541e+00, -1.8305e+00,  1.4239e-01, -9.5959e-01, -1.2643e-03,\n",
      "          6.3949e-01, -6.8372e-01,  2.5166e-01, -5.9142e-01,  1.1985e+00,\n",
      "         -2.1808e-02, -1.1314e+00,  1.4964e+00, -1.9381e+00, -7.5101e-01,\n",
      "         -9.3552e-01, -1.8608e+00, -2.7040e-01,  1.2296e+00, -6.9750e-01,\n",
      "         -2.1582e+00,  1.4223e+00,  2.5236e-01, -1.8599e-01, -1.4541e+00,\n",
      "          1.8466e-01,  2.5537e-01, -3.8305e+00,  3.9588e-01],\n",
      "        [ 2.9955e+00,  2.0391e+00, -7.5994e+00, -2.1928e+00,  3.3561e+00,\n",
      "         -3.6961e+00, -4.9211e-01,  2.7164e+00, -6.1767e+00,  1.6566e+00,\n",
      "         -1.4926e+00, -4.9376e+00, -3.2817e+00,  1.8429e+00, -3.5893e+00,\n",
      "          1.5093e+00, -1.7292e+00, -2.2578e-01, -3.7964e-01, -2.9794e+00,\n",
      "          6.2418e-01, -8.0117e-01,  1.2591e+00,  1.4827e+00,  3.4495e+00,\n",
      "          2.0982e+00, -2.8365e+00, -1.7909e+00,  1.6285e+00,  5.6307e-01,\n",
      "         -2.5522e+00,  3.3949e+00, -3.2030e+00, -2.2356e+00,  2.2908e+00,\n",
      "         -9.7548e+00, -1.6097e-01, -5.4935e-01, -5.8828e+00, -3.4080e+00,\n",
      "          1.4859e+00,  2.2882e+00, -1.9513e+00, -6.4456e-02,  4.9488e+00,\n",
      "          4.5128e+00, -2.8435e+00, -6.2662e+00, -1.2739e+00, -3.6810e+00,\n",
      "         -5.0238e+00, -3.0402e+00,  2.4187e+00,  3.7065e-01,  4.0791e-01,\n",
      "         -2.2219e+00,  2.3543e+00,  3.1983e+00, -7.2415e-01,  8.8694e-02,\n",
      "          5.0906e-01,  7.1890e-01,  4.2268e+00,  1.1769e+00],\n",
      "        [ 1.1980e+00, -1.5413e+00, -3.5939e+00,  3.3646e+00,  2.3898e+00,\n",
      "         -1.8074e-01,  2.0931e+00,  1.9543e-01,  2.6907e-01, -4.1198e-01,\n",
      "         -8.6091e-01, -1.6186e+00,  4.0939e-01,  2.1052e+00, -1.5889e-01,\n",
      "          2.6727e+00, -2.2190e+00,  3.6599e-01, -1.5646e+00, -1.1334e+00,\n",
      "          3.8158e-01, -6.4167e-01,  1.5148e+00,  1.4504e+00, -4.2271e+00,\n",
      "          4.3948e-01, -1.8585e+00, -3.0144e+00, -4.1271e-01, -1.7478e+00,\n",
      "          6.6127e-01,  2.3548e+00, -2.0862e+00, -2.9314e+00,  2.6209e-01,\n",
      "         -3.7886e+00, -2.0507e+00,  2.3532e-01,  3.1023e+00, -1.5525e+00,\n",
      "          1.0624e+00, -1.7296e+00,  8.5150e-01, -3.4179e-01,  8.1002e-01,\n",
      "          3.6768e-02, -1.3924e+00, -1.4377e+00,  4.4073e+00, -1.9545e+00,\n",
      "         -1.3805e+00, -7.3394e-01,  5.2431e-01,  5.9505e-02,  1.6844e-01,\n",
      "         -1.8241e+00,  1.2850e+00, -1.2807e+00,  2.2468e-01, -1.3009e+00,\n",
      "         -6.1139e-02, -2.7171e+00,  4.4510e+00,  2.8389e-01],\n",
      "        [ 1.1759e+00, -2.6958e+00, -5.0035e+00,  4.8832e+00,  2.2968e+00,\n",
      "         -5.2028e-01,  1.0851e+00,  7.6243e-01, -1.8715e+00,  4.0828e-01,\n",
      "         -3.1996e+00, -3.6577e+00,  6.4245e-01,  1.7082e+00, -1.8503e-01,\n",
      "          3.7576e+00, -2.7432e+00,  6.0876e-01, -1.7588e+00, -1.5162e+00,\n",
      "          8.3028e-01, -4.5706e-01,  1.4630e+00,  2.5971e+00, -4.8105e+00,\n",
      "         -1.1366e+00, -3.8025e+00,  4.3613e-01, -2.5220e-02, -1.2551e-02,\n",
      "          2.4921e-01,  2.0731e+00, -1.1627e+00, -3.2125e+00,  9.6315e-01,\n",
      "         -4.4469e+00, -2.5247e+00,  4.9919e-02,  2.7353e+00, -1.5644e+00,\n",
      "          9.6305e-01, -2.0453e+00,  3.2067e-01, -1.0009e+00,  4.8810e-01,\n",
      "         -5.2539e-01, -1.4583e+00, -1.5659e+00,  3.1210e+00, -2.5983e+00,\n",
      "         -1.7166e+00, -3.3921e+00,  3.0125e-01, -6.3473e-01,  8.5883e-01,\n",
      "         -2.6030e+00,  3.0408e+00, -3.2103e+00,  6.4776e-01, -1.9453e+00,\n",
      "         -3.4989e-01, -3.0842e+00,  5.8903e+00,  4.2164e-01],\n",
      "        [ 2.6136e+00,  9.8941e-01, -5.6413e+00, -1.6932e+00,  3.8475e+00,\n",
      "         -1.1909e+00, -2.1435e+00, -1.6406e+00,  4.6185e-01,  1.6332e+00,\n",
      "          2.0251e+00, -1.1061e+00, -2.0298e-01, -8.0204e-01, -5.0549e+00,\n",
      "          3.1304e+00,  1.5876e+00,  1.9202e+00,  3.8180e-01,  3.9481e-01,\n",
      "         -1.3135e+00, -1.7199e-01,  1.5798e+00,  1.3865e+00, -4.0471e-01,\n",
      "          1.3012e-01, -2.4316e+00,  1.4334e+00,  7.9833e-01,  5.5850e-01,\n",
      "         -2.0318e+00,  5.4620e+00,  1.0801e+00, -3.7446e-01,  1.3700e+00,\n",
      "         -2.1294e+00, -3.2549e+00, -9.3187e-01, -1.9052e+00, -2.4868e+00,\n",
      "          8.0320e-02,  1.2394e+00,  2.3353e+00,  2.2000e+00,  2.4808e+00,\n",
      "         -5.8708e+00, -9.9718e-01,  1.0717e+00,  8.0042e-01, -2.5515e+00,\n",
      "         -3.0418e+00, -3.1545e+00,  1.6477e+00, -1.5950e+00,  2.1849e-01,\n",
      "          4.1725e+00,  1.1037e+00, -2.3549e+00,  3.7638e+00, -4.4202e+00,\n",
      "         -3.0121e+00,  2.4491e+00, -1.6974e+00, -1.1527e+00]],\n",
      "       grad_fn=<AddmmBackward0>)\n",
      "tensor([[0.0000, 0.0000, 0.0000, 0.0000, 1.7287, 0.7659, 0.0000, 0.9979, 4.7680,\n",
      "         0.1045, 0.1024, 0.0000, 0.0000, 1.2651, 0.0000, 3.6613, 0.1772, 1.2649,\n",
      "         0.0000, 0.0000, 1.4118, 0.0000, 2.0936, 2.5204, 0.0000, 0.0000, 0.0000,\n",
      "         1.1355, 0.2541, 0.0000, 0.0000, 0.4912, 4.4491, 0.0000, 0.7044, 4.0541,\n",
      "         0.0000, 0.1424, 0.0000, 0.0000, 0.6395, 0.0000, 0.2517, 0.0000, 1.1985,\n",
      "         0.0000, 0.0000, 1.4964, 0.0000, 0.0000, 0.0000, 0.0000, 0.0000, 1.2296,\n",
      "         0.0000, 0.0000, 1.4223, 0.2524, 0.0000, 0.0000, 0.1847, 0.2554, 0.0000,\n",
      "         0.3959],\n",
      "        [2.9955, 2.0391, 0.0000, 0.0000, 3.3561, 0.0000, 0.0000, 2.7164, 0.0000,\n",
      "         1.6566, 0.0000, 0.0000, 0.0000, 1.8429, 0.0000, 1.5093, 0.0000, 0.0000,\n",
      "         0.0000, 0.0000, 0.6242, 0.0000, 1.2591, 1.4827, 3.4495, 2.0982, 0.0000,\n",
      "         0.0000, 1.6285, 0.5631, 0.0000, 3.3949, 0.0000, 0.0000, 2.2908, 0.0000,\n",
      "         0.0000, 0.0000, 0.0000, 0.0000, 1.4859, 2.2882, 0.0000, 0.0000, 4.9488,\n",
      "         4.5128, 0.0000, 0.0000, 0.0000, 0.0000, 0.0000, 0.0000, 2.4187, 0.3707,\n",
      "         0.4079, 0.0000, 2.3543, 3.1983, 0.0000, 0.0887, 0.5091, 0.7189, 4.2268,\n",
      "         1.1769],\n",
      "        [1.1980, 0.0000, 0.0000, 3.3646, 2.3898, 0.0000, 2.0931, 0.1954, 0.2691,\n",
      "         0.0000, 0.0000, 0.0000, 0.4094, 2.1052, 0.0000, 2.6727, 0.0000, 0.3660,\n",
      "         0.0000, 0.0000, 0.3816, 0.0000, 1.5148, 1.4504, 0.0000, 0.4395, 0.0000,\n",
      "         0.0000, 0.0000, 0.0000, 0.6613, 2.3548, 0.0000, 0.0000, 0.2621, 0.0000,\n",
      "         0.0000, 0.2353, 3.1023, 0.0000, 1.0624, 0.0000, 0.8515, 0.0000, 0.8100,\n",
      "         0.0368, 0.0000, 0.0000, 4.4073, 0.0000, 0.0000, 0.0000, 0.5243, 0.0595,\n",
      "         0.1684, 0.0000, 1.2850, 0.0000, 0.2247, 0.0000, 0.0000, 0.0000, 4.4510,\n",
      "         0.2839],\n",
      "        [1.1759, 0.0000, 0.0000, 4.8832, 2.2968, 0.0000, 1.0851, 0.7624, 0.0000,\n",
      "         0.4083, 0.0000, 0.0000, 0.6424, 1.7082, 0.0000, 3.7576, 0.0000, 0.6088,\n",
      "         0.0000, 0.0000, 0.8303, 0.0000, 1.4630, 2.5971, 0.0000, 0.0000, 0.0000,\n",
      "         0.4361, 0.0000, 0.0000, 0.2492, 2.0731, 0.0000, 0.0000, 0.9631, 0.0000,\n",
      "         0.0000, 0.0499, 2.7353, 0.0000, 0.9630, 0.0000, 0.3207, 0.0000, 0.4881,\n",
      "         0.0000, 0.0000, 0.0000, 3.1210, 0.0000, 0.0000, 0.0000, 0.3013, 0.0000,\n",
      "         0.8588, 0.0000, 3.0408, 0.0000, 0.6478, 0.0000, 0.0000, 0.0000, 5.8903,\n",
      "         0.4216],\n",
      "        [2.6136, 0.9894, 0.0000, 0.0000, 3.8475, 0.0000, 0.0000, 0.0000, 0.4618,\n",
      "         1.6332, 2.0251, 0.0000, 0.0000, 0.0000, 0.0000, 3.1304, 1.5876, 1.9202,\n",
      "         0.3818, 0.3948, 0.0000, 0.0000, 1.5798, 1.3865, 0.0000, 0.1301, 0.0000,\n",
      "         1.4334, 0.7983, 0.5585, 0.0000, 5.4620, 1.0801, 0.0000, 1.3700, 0.0000,\n",
      "         0.0000, 0.0000, 0.0000, 0.0000, 0.0803, 1.2394, 2.3353, 2.2000, 2.4808,\n",
      "         0.0000, 0.0000, 1.0717, 0.8004, 0.0000, 0.0000, 0.0000, 1.6477, 0.0000,\n",
      "         0.2185, 4.1725, 1.1037, 0.0000, 3.7638, 0.0000, 0.0000, 2.4491, 0.0000,\n",
      "         0.0000]], grad_fn=<AsStridedBackward0>)\n",
      "tensor([[ -0.9814,   9.8098,  -2.0653,  -2.0011,   1.5169,  -3.8284,   1.4819,\n",
      "           0.1049,   0.8676,  -0.4727],\n",
      "        [ -4.7402,  -2.4384,  -1.1906,  -1.4701,   8.2541,   0.6322,   0.4862,\n",
      "           3.3136,   1.4935,   9.0224],\n",
      "        [ -1.5278,   9.5474,  -0.3631,  -1.6660,   2.0499,  -3.5131,   2.7270,\n",
      "          -0.6270,   1.2604,  -1.2225],\n",
      "        [ -2.0169,   6.9207,  -0.4351,   3.3392,  -4.3632,  -2.0359,  -1.0002,\n",
      "          -1.1858,   5.0355,   0.2336],\n",
      "        [ -0.8358, -11.7454,  -0.6829,   0.4749,   4.4982,   2.0218,  -1.9874,\n",
      "           5.5276,   1.4892,   8.6841]], grad_fn=<AddmmBackward0>)\n",
      "tensor([[0.0000, 9.8098, 0.0000, 0.0000, 1.5169, 0.0000, 1.4819, 0.1049, 0.8676,\n",
      "         0.0000],\n",
      "        [0.0000, 0.0000, 0.0000, 0.0000, 8.2541, 0.6322, 0.4862, 3.3136, 1.4935,\n",
      "         9.0224],\n",
      "        [0.0000, 9.5474, 0.0000, 0.0000, 2.0499, 0.0000, 2.7270, 0.0000, 1.2604,\n",
      "         0.0000],\n",
      "        [0.0000, 6.9207, 0.0000, 3.3392, 0.0000, 0.0000, 0.0000, 0.0000, 5.0355,\n",
      "         0.2336],\n",
      "        [0.0000, 0.0000, 0.0000, 0.4749, 4.4982, 2.0218, 0.0000, 5.5276, 1.4892,\n",
      "         8.6841]], grad_fn=<AsStridedBackward0>)\n"
     ]
    }
   ],
   "source": [
    "#Q6: show the output of the intermediate layers\n",
    "for batch_idx,(X,y) in enumerate(train_loader):\n",
    "    for i in range(len(fc.fcn)):\n",
    "        X = X.view(-1, int(X.nelement() / X.shape[0]))\n",
    "        X=fc.fcn[i](X)\n",
    "        print(X)\n",
    "    break"
   ]
  },
  {
   "cell_type": "code",
   "execution_count": 34,
   "metadata": {},
   "outputs": [
    {
     "ename": "AssertionError",
     "evalue": "Torch not compiled with CUDA enabled",
     "output_type": "error",
     "traceback": [
      "\u001b[1;31m---------------------------------------------------------------------------\u001b[0m",
      "\u001b[1;31mAssertionError\u001b[0m                            Traceback (most recent call last)",
      "\u001b[1;32m<ipython-input-34-757473c6c075>\u001b[0m in \u001b[0;36m<module>\u001b[1;34m\u001b[0m\n\u001b[0;32m      1\u001b[0m \u001b[1;31m#Q7: Compare the time of training on CPU and GPU\u001b[0m\u001b[1;33m\u001b[0m\u001b[1;33m\u001b[0m\u001b[1;33m\u001b[0m\u001b[0m\n\u001b[0;32m      2\u001b[0m \u001b[0mdevice\u001b[0m\u001b[1;33m=\u001b[0m\u001b[1;34m'cuda'\u001b[0m\u001b[1;33m\u001b[0m\u001b[1;33m\u001b[0m\u001b[0m\n\u001b[1;32m----> 3\u001b[1;33m \u001b[0mcnn\u001b[0m\u001b[1;33m=\u001b[0m\u001b[0mCNN\u001b[0m\u001b[1;33m(\u001b[0m\u001b[1;33m)\u001b[0m\u001b[1;33m.\u001b[0m\u001b[0mto\u001b[0m\u001b[1;33m(\u001b[0m\u001b[0mdevice\u001b[0m\u001b[1;33m)\u001b[0m\u001b[1;33m\u001b[0m\u001b[1;33m\u001b[0m\u001b[0m\n\u001b[0m\u001b[0;32m      4\u001b[0m \u001b[0moptimizer\u001b[0m \u001b[1;33m=\u001b[0m \u001b[0mtorch\u001b[0m\u001b[1;33m.\u001b[0m\u001b[0moptim\u001b[0m\u001b[1;33m.\u001b[0m\u001b[0mSGD\u001b[0m\u001b[1;33m(\u001b[0m\u001b[0mcnn\u001b[0m\u001b[1;33m.\u001b[0m\u001b[0mparameters\u001b[0m\u001b[1;33m(\u001b[0m\u001b[1;33m)\u001b[0m\u001b[1;33m,\u001b[0m \u001b[0mlr\u001b[0m\u001b[1;33m=\u001b[0m\u001b[1;36m0.01\u001b[0m\u001b[1;33m)\u001b[0m\u001b[1;33m\u001b[0m\u001b[1;33m\u001b[0m\u001b[0m\n\u001b[0;32m      5\u001b[0m \u001b[0mloss_fn\u001b[0m \u001b[1;33m=\u001b[0m \u001b[0mnn\u001b[0m\u001b[1;33m.\u001b[0m\u001b[0mCrossEntropyLoss\u001b[0m\u001b[1;33m(\u001b[0m\u001b[1;33m)\u001b[0m\u001b[1;33m\u001b[0m\u001b[1;33m\u001b[0m\u001b[0m\n",
      "\u001b[1;32mG:\\anaconda3\\envs\\te1\\lib\\site-packages\\torch\\nn\\modules\\module.py\u001b[0m in \u001b[0;36mto\u001b[1;34m(self, *args, **kwargs)\u001b[0m\n\u001b[0;32m    897\u001b[0m             \u001b[1;32mreturn\u001b[0m \u001b[0mt\u001b[0m\u001b[1;33m.\u001b[0m\u001b[0mto\u001b[0m\u001b[1;33m(\u001b[0m\u001b[0mdevice\u001b[0m\u001b[1;33m,\u001b[0m \u001b[0mdtype\u001b[0m \u001b[1;32mif\u001b[0m \u001b[0mt\u001b[0m\u001b[1;33m.\u001b[0m\u001b[0mis_floating_point\u001b[0m\u001b[1;33m(\u001b[0m\u001b[1;33m)\u001b[0m \u001b[1;32mor\u001b[0m \u001b[0mt\u001b[0m\u001b[1;33m.\u001b[0m\u001b[0mis_complex\u001b[0m\u001b[1;33m(\u001b[0m\u001b[1;33m)\u001b[0m \u001b[1;32melse\u001b[0m \u001b[1;32mNone\u001b[0m\u001b[1;33m,\u001b[0m \u001b[0mnon_blocking\u001b[0m\u001b[1;33m)\u001b[0m\u001b[1;33m\u001b[0m\u001b[1;33m\u001b[0m\u001b[0m\n\u001b[0;32m    898\u001b[0m \u001b[1;33m\u001b[0m\u001b[0m\n\u001b[1;32m--> 899\u001b[1;33m         \u001b[1;32mreturn\u001b[0m \u001b[0mself\u001b[0m\u001b[1;33m.\u001b[0m\u001b[0m_apply\u001b[0m\u001b[1;33m(\u001b[0m\u001b[0mconvert\u001b[0m\u001b[1;33m)\u001b[0m\u001b[1;33m\u001b[0m\u001b[1;33m\u001b[0m\u001b[0m\n\u001b[0m\u001b[0;32m    900\u001b[0m \u001b[1;33m\u001b[0m\u001b[0m\n\u001b[0;32m    901\u001b[0m     def register_backward_hook(\n",
      "\u001b[1;32mG:\\anaconda3\\envs\\te1\\lib\\site-packages\\torch\\nn\\modules\\module.py\u001b[0m in \u001b[0;36m_apply\u001b[1;34m(self, fn)\u001b[0m\n\u001b[0;32m    568\u001b[0m     \u001b[1;32mdef\u001b[0m \u001b[0m_apply\u001b[0m\u001b[1;33m(\u001b[0m\u001b[0mself\u001b[0m\u001b[1;33m,\u001b[0m \u001b[0mfn\u001b[0m\u001b[1;33m)\u001b[0m\u001b[1;33m:\u001b[0m\u001b[1;33m\u001b[0m\u001b[1;33m\u001b[0m\u001b[0m\n\u001b[0;32m    569\u001b[0m         \u001b[1;32mfor\u001b[0m \u001b[0mmodule\u001b[0m \u001b[1;32min\u001b[0m \u001b[0mself\u001b[0m\u001b[1;33m.\u001b[0m\u001b[0mchildren\u001b[0m\u001b[1;33m(\u001b[0m\u001b[1;33m)\u001b[0m\u001b[1;33m:\u001b[0m\u001b[1;33m\u001b[0m\u001b[1;33m\u001b[0m\u001b[0m\n\u001b[1;32m--> 570\u001b[1;33m             \u001b[0mmodule\u001b[0m\u001b[1;33m.\u001b[0m\u001b[0m_apply\u001b[0m\u001b[1;33m(\u001b[0m\u001b[0mfn\u001b[0m\u001b[1;33m)\u001b[0m\u001b[1;33m\u001b[0m\u001b[1;33m\u001b[0m\u001b[0m\n\u001b[0m\u001b[0;32m    571\u001b[0m \u001b[1;33m\u001b[0m\u001b[0m\n\u001b[0;32m    572\u001b[0m         \u001b[1;32mdef\u001b[0m \u001b[0mcompute_should_use_set_data\u001b[0m\u001b[1;33m(\u001b[0m\u001b[0mtensor\u001b[0m\u001b[1;33m,\u001b[0m \u001b[0mtensor_applied\u001b[0m\u001b[1;33m)\u001b[0m\u001b[1;33m:\u001b[0m\u001b[1;33m\u001b[0m\u001b[1;33m\u001b[0m\u001b[0m\n",
      "\u001b[1;32mG:\\anaconda3\\envs\\te1\\lib\\site-packages\\torch\\nn\\modules\\module.py\u001b[0m in \u001b[0;36m_apply\u001b[1;34m(self, fn)\u001b[0m\n\u001b[0;32m    591\u001b[0m             \u001b[1;31m# `with torch.no_grad():`\u001b[0m\u001b[1;33m\u001b[0m\u001b[1;33m\u001b[0m\u001b[1;33m\u001b[0m\u001b[0m\n\u001b[0;32m    592\u001b[0m             \u001b[1;32mwith\u001b[0m \u001b[0mtorch\u001b[0m\u001b[1;33m.\u001b[0m\u001b[0mno_grad\u001b[0m\u001b[1;33m(\u001b[0m\u001b[1;33m)\u001b[0m\u001b[1;33m:\u001b[0m\u001b[1;33m\u001b[0m\u001b[1;33m\u001b[0m\u001b[0m\n\u001b[1;32m--> 593\u001b[1;33m                 \u001b[0mparam_applied\u001b[0m \u001b[1;33m=\u001b[0m \u001b[0mfn\u001b[0m\u001b[1;33m(\u001b[0m\u001b[0mparam\u001b[0m\u001b[1;33m)\u001b[0m\u001b[1;33m\u001b[0m\u001b[1;33m\u001b[0m\u001b[0m\n\u001b[0m\u001b[0;32m    594\u001b[0m             \u001b[0mshould_use_set_data\u001b[0m \u001b[1;33m=\u001b[0m \u001b[0mcompute_should_use_set_data\u001b[0m\u001b[1;33m(\u001b[0m\u001b[0mparam\u001b[0m\u001b[1;33m,\u001b[0m \u001b[0mparam_applied\u001b[0m\u001b[1;33m)\u001b[0m\u001b[1;33m\u001b[0m\u001b[1;33m\u001b[0m\u001b[0m\n\u001b[0;32m    595\u001b[0m             \u001b[1;32mif\u001b[0m \u001b[0mshould_use_set_data\u001b[0m\u001b[1;33m:\u001b[0m\u001b[1;33m\u001b[0m\u001b[1;33m\u001b[0m\u001b[0m\n",
      "\u001b[1;32mG:\\anaconda3\\envs\\te1\\lib\\site-packages\\torch\\nn\\modules\\module.py\u001b[0m in \u001b[0;36mconvert\u001b[1;34m(t)\u001b[0m\n\u001b[0;32m    895\u001b[0m                 return t.to(device, dtype if t.is_floating_point() or t.is_complex() else None,\n\u001b[0;32m    896\u001b[0m                             non_blocking, memory_format=convert_to_format)\n\u001b[1;32m--> 897\u001b[1;33m             \u001b[1;32mreturn\u001b[0m \u001b[0mt\u001b[0m\u001b[1;33m.\u001b[0m\u001b[0mto\u001b[0m\u001b[1;33m(\u001b[0m\u001b[0mdevice\u001b[0m\u001b[1;33m,\u001b[0m \u001b[0mdtype\u001b[0m \u001b[1;32mif\u001b[0m \u001b[0mt\u001b[0m\u001b[1;33m.\u001b[0m\u001b[0mis_floating_point\u001b[0m\u001b[1;33m(\u001b[0m\u001b[1;33m)\u001b[0m \u001b[1;32mor\u001b[0m \u001b[0mt\u001b[0m\u001b[1;33m.\u001b[0m\u001b[0mis_complex\u001b[0m\u001b[1;33m(\u001b[0m\u001b[1;33m)\u001b[0m \u001b[1;32melse\u001b[0m \u001b[1;32mNone\u001b[0m\u001b[1;33m,\u001b[0m \u001b[0mnon_blocking\u001b[0m\u001b[1;33m)\u001b[0m\u001b[1;33m\u001b[0m\u001b[1;33m\u001b[0m\u001b[0m\n\u001b[0m\u001b[0;32m    898\u001b[0m \u001b[1;33m\u001b[0m\u001b[0m\n\u001b[0;32m    899\u001b[0m         \u001b[1;32mreturn\u001b[0m \u001b[0mself\u001b[0m\u001b[1;33m.\u001b[0m\u001b[0m_apply\u001b[0m\u001b[1;33m(\u001b[0m\u001b[0mconvert\u001b[0m\u001b[1;33m)\u001b[0m\u001b[1;33m\u001b[0m\u001b[1;33m\u001b[0m\u001b[0m\n",
      "\u001b[1;32mG:\\anaconda3\\envs\\te1\\lib\\site-packages\\torch\\cuda\\__init__.py\u001b[0m in \u001b[0;36m_lazy_init\u001b[1;34m()\u001b[0m\n\u001b[0;32m    206\u001b[0m                 \"multiprocessing, you must use the 'spawn' start method\")\n\u001b[0;32m    207\u001b[0m         \u001b[1;32mif\u001b[0m \u001b[1;32mnot\u001b[0m \u001b[0mhasattr\u001b[0m\u001b[1;33m(\u001b[0m\u001b[0mtorch\u001b[0m\u001b[1;33m.\u001b[0m\u001b[0m_C\u001b[0m\u001b[1;33m,\u001b[0m \u001b[1;34m'_cuda_getDeviceCount'\u001b[0m\u001b[1;33m)\u001b[0m\u001b[1;33m:\u001b[0m\u001b[1;33m\u001b[0m\u001b[1;33m\u001b[0m\u001b[0m\n\u001b[1;32m--> 208\u001b[1;33m             \u001b[1;32mraise\u001b[0m \u001b[0mAssertionError\u001b[0m\u001b[1;33m(\u001b[0m\u001b[1;34m\"Torch not compiled with CUDA enabled\"\u001b[0m\u001b[1;33m)\u001b[0m\u001b[1;33m\u001b[0m\u001b[1;33m\u001b[0m\u001b[0m\n\u001b[0m\u001b[0;32m    209\u001b[0m         \u001b[1;32mif\u001b[0m \u001b[0m_cudart\u001b[0m \u001b[1;32mis\u001b[0m \u001b[1;32mNone\u001b[0m\u001b[1;33m:\u001b[0m\u001b[1;33m\u001b[0m\u001b[1;33m\u001b[0m\u001b[0m\n\u001b[0;32m    210\u001b[0m             raise AssertionError(\n",
      "\u001b[1;31mAssertionError\u001b[0m: Torch not compiled with CUDA enabled"
     ]
    }
   ],
   "source": [
    "#Q7: Compare the time of training on CPU and GPU\n",
    "device='cuda'\n",
    "cnn=CNN().to(device)\n",
    "optimizer = torch.optim.SGD(cnn.parameters(), lr=0.01)\n",
    "loss_fn = nn.CrossEntropyLoss()\n",
    "train(cnn,train_loader,test_loader,optimizer,loss_fn,device,10,'cnn')"
   ]
  },
  {
   "cell_type": "code",
   "execution_count": 55,
   "metadata": {},
   "outputs": [
    {
     "name": "stdout",
     "output_type": "stream",
     "text": [
      "torch.Size([5, 1, 28, 28])\n",
      "gt: 6\n",
      "gt: 7\n",
      "gt: 9\n",
      "gt: 1\n",
      "gt: 3\n"
     ]
    },
    {
     "data": {
      "image/png": "[encoded data removed]",
      "text/plain": [
       "<Figure size 432x288 with 1 Axes>"
      ]
     },
     "metadata": {
      "needs_background": "light"
     },
     "output_type": "display_data"
    },
    {
     "data": {
      "image/png": "[encoded data removed]",
      "text/plain": [
       "<Figure size 432x288 with 1 Axes>"
      ]
     },
     "metadata": {
      "needs_background": "light"
     },
     "output_type": "display_data"
    },
    {
     "data": {
      "image/png": "[encoded data removed]",
      "text/plain": [
       "<Figure size 432x288 with 1 Axes>"
      ]
     },
     "metadata": {
      "needs_background": "light"
     },
     "output_type": "display_data"
    },
    {
     "data": {
      "image/png": "[encoded data removed]",
      "text/plain": [
       "<Figure size 432x288 with 1 Axes>"
      ]
     },
     "metadata": {
      "needs_background": "light"
     },
     "output_type": "display_data"
    },
    {
     "data": {
      "image/png": "[encoded data removed]",
      "text/plain": [
       "<Figure size 432x288 with 1 Axes>"
      ]
     },
     "metadata": {
      "needs_background": "light"
     },
     "output_type": "display_data"
    }
   ],
   "source": [
    "for i,batch in enumerate(train_loader):\n",
    "    if i>0:\n",
    "        break\n",
    "\n",
    "    x=batch[0]\n",
    "    y=batch[1]\n",
    "    \n",
    "    print(x.shape)\n",
    "    for j in range(5):\n",
    "        plt.figure()\n",
    "        plt.imshow(x[j,0,:,:])\n",
    "        print('gt:',int(y[j]))  \n",
    "        "
   ]
  }
 ],
 "metadata": {
  "interpreter": {
   "hash": "f96bd63df0cf0e2d29d01f126e99165bb7898495bece9eb3e9b8a1eb60cb4075"
  },
  "kernelspec": {
   "display_name": "Python 3.8.5 64-bit ('te1': conda)",
   "language": "python",
   "name": "python3"
  },
  "language_info": {
   "codemirror_mode": {
    "name": "ipython",
    "version": 3
   },
   "file_extension": ".py",
   "mimetype": "text/x-python",
   "name": "python",
   "nbconvert_exporter": "python",
   "pygments_lexer": "ipython3",
   "version": "3.8.5"
  },
  "orig_nbformat": 4
 },
 "nbformat": 4,
 "nbformat_minor": 2
}
