{
  "cells": [
    {
      "cell_type": "code",
      "execution_count": 44,
      "metadata": {
        "colab": {
          "base_uri": "https://localhost:8080/",
          "height": 293
        },
        "id": "MVTNLbMT25BX",
        "outputId": "0094b2ab-b692-49a0-cfa4-4c222f88584a"
      },
      "outputs": [
        {
          "data": {
            "text/plain": [
              "[<matplotlib.lines.Line2D at 0x1cd3aa8d790>]"
            ]
          },
          "execution_count": 44,
          "metadata": {},
          "output_type": "execute_result"
        },
        {
          "data": {
            "image/png": "[encoded data removed]",
            "text/plain": [
              "<Figure size 432x288 with 1 Axes>"
            ]
          },
          "metadata": {
            "needs_background": "light"
          },
          "output_type": "display_data"
        }
      ],
      "source": [
        "#[Fictional Story] The data for the hydrogen spectrum was provided to a statistcain and he/She decided to use linear regression\n",
        "#model for finding the relation between the hydrogen spectrum and the hydrogen shell. The statistican wants to find the relatioship between \n",
        "#the shell from which the electron jumps (ni) to the first shell and the spatial frequency (sf). He/She tries to fit 2-7 order polynomial to the data.\n",
        "import numpy as np\n",
        "import matplotlib.pyplot as plt\n",
        "\n",
        "\n",
        "ni=np.arange(2,25)\n",
        "\n",
        "sf=[(1.1*10**7)*(1/(1)**2 -1/(i)**2) for i in ni] \n",
        "plt.plot(ni,sf,'.')"
      ]
    },
    {
      "cell_type": "code",
      "execution_count": 45,
      "metadata": {},
      "outputs": [
        {
          "name": "stdout",
          "output_type": "stream",
          "text": [
            "(23, 4)\n"
          ]
        }
      ],
      "source": [
        "sf=np.array(sf)\n",
        "num_basis=4\n",
        "basis=np.arange(num_basis)\n",
        "ni=ni[:,np.newaxis]\n",
        "basis=basis[np.newaxis,:]\n",
        "A=ni**basis\n",
        "print(A.shape)"
      ]
    },
    {
      "cell_type": "code",
      "execution_count": 46,
      "metadata": {},
      "outputs": [],
      "source": [
        "y=sf[:,np.newaxis]\n",
        "w=np.linalg.inv(A.T@A)@(A.T@y)"
      ]
    },
    {
      "cell_type": "code",
      "execution_count": 47,
      "metadata": {},
      "outputs": [
        {
          "data": {
            "text/plain": [
              "[<matplotlib.lines.Line2D at 0x1cd3ab40c40>,\n",
              " <matplotlib.lines.Line2D at 0x1cd3ab40d00>]"
            ]
          },
          "execution_count": 47,
          "metadata": {},
          "output_type": "execute_result"
        },
        {
          "data": {
            "image/png": "[encoded data removed]",
            "text/plain": [
              "<Figure size 432x288 with 1 Axes>"
            ]
          },
          "metadata": {
            "needs_background": "light"
          },
          "output_type": "display_data"
        }
      ],
      "source": [
        "ynew=A@w\n",
        "plt.plot(ni,ynew,ni,y)"
      ]
    },
    {
      "cell_type": "code",
      "execution_count": 48,
      "metadata": {},
      "outputs": [
        {
          "data": {
            "text/plain": [
              "array([[ 7.70240901e+06],\n",
              "       [ 7.31960491e+05],\n",
              "       [-5.04680669e+04],\n",
              "       [ 1.08430214e+03]])"
            ]
          },
          "execution_count": 48,
          "metadata": {},
          "output_type": "execute_result"
        }
      ],
      "source": [
        "w"
      ]
    }
  ],
  "metadata": {
    "colab": {
      "collapsed_sections": [],
      "name": "BohrsAtomicModel.ipynb",
      "provenance": []
    },
    "kernelspec": {
      "display_name": "Python 3",
      "name": "python3"
    },
    "language_info": {
      "codemirror_mode": {
        "name": "ipython",
        "version": 3
      },
      "file_extension": ".py",
      "mimetype": "text/x-python",
      "name": "python",
      "nbconvert_exporter": "python",
      "pygments_lexer": "ipython3",
      "version": "3.8.5"
    }
  },
  "nbformat": 4,
  "nbformat_minor": 0
}
