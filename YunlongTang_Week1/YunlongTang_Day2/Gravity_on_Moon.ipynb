{
  "cells": [
    {
      "cell_type": "code",
      "execution_count": 3,
      "metadata": {
        "colab": {
          "base_uri": "https://localhost:8080/",
          "height": 282
        },
        "id": "cx4pkfo5xeEv",
        "outputId": "2a44ce54-b05c-48a7-a4c6-b3b65f42494c"
      },
      "outputs": [
        {
          "data": {
            "text/plain": [
              "[<matplotlib.lines.Line2D at 0x26af1425b50>]"
            ]
          },
          "execution_count": 3,
          "metadata": {},
          "output_type": "execute_result"
        },
        {
          "data": {
            "image/png": "[encoded data removed]",
            "text/plain": [
              "<Figure size 432x288 with 1 Axes>"
            ]
          },
          "metadata": {
            "needs_background": "light"
          },
          "output_type": "display_data"
        }
      ],
      "source": [
        "#[Fictional Story] The astronauts on moon wanted to measure the value of gravity on the moon. The decide to throw a spanner \n",
        "#from different heights and measure the time needed to cover the distance and based on these values want to extract the value of \n",
        "#gravity on moon. The values might be slightly off due to human error and the (very thin) moon atmosphere. Use linear regression to \n",
        "#find the value of gravity on the moon.\n",
        "\n",
        "\n",
        "\n",
        "import matplotlib.pyplot as plt\n",
        "import numpy as np\n",
        "\n",
        "gmoon=9.8/6\n",
        "t=np.linspace(1,3,20)\n",
        "s=0.5*gmoon*t**2 + 0.0*np.random.randn(t.size)\n",
        "plt.plot(t,s,'.')"
      ]
    },
    {
      "cell_type": "code",
      "execution_count": 4,
      "metadata": {
        "colab": {
          "base_uri": "https://localhost:8080/"
        },
        "id": "lRKueAG6ylbG",
        "outputId": "54c151ad-199f-4475-aa75-ca5b434bf357"
      },
      "outputs": [
        {
          "name": "stdout",
          "output_type": "stream",
          "text": [
            "(20,) (20,)\n"
          ]
        }
      ],
      "source": [
        "print(t.shape, s.shape)"
      ]
    },
    {
      "cell_type": "code",
      "execution_count": 5,
      "metadata": {
        "colab": {
          "base_uri": "https://localhost:8080/"
        },
        "id": "4OzbeicxXCAM",
        "outputId": "ae942092-987c-4e18-90d6-d538beec8137"
      },
      "outputs": [
        {
          "name": "stdout",
          "output_type": "stream",
          "text": [
            "(20, 5)\n"
          ]
        }
      ],
      "source": [
        "num_basis=5\n",
        "basis=np.arange(num_basis)\n",
        "t=t[:,np.newaxis]\n",
        "basis=basis[np.newaxis,:]\n",
        "A=t**basis\n",
        "print(A.shape)"
      ]
    },
    {
      "cell_type": "code",
      "execution_count": 6,
      "metadata": {
        "id": "7USRJrb1Ym0x"
      },
      "outputs": [],
      "source": [
        "y=s[:,np.newaxis]\n",
        "w=np.linalg.inv(A.T@A)@(A.T@y)"
      ]
    },
    {
      "cell_type": "code",
      "execution_count": 7,
      "metadata": {
        "colab": {
          "base_uri": "https://localhost:8080/",
          "height": 299
        },
        "id": "_Hp2ajD4ZcmZ",
        "outputId": "91949399-f59e-4402-dea5-ba6a1b34454c"
      },
      "outputs": [
        {
          "data": {
            "text/plain": [
              "[<matplotlib.lines.Line2D at 0x26af148e790>,\n",
              " <matplotlib.lines.Line2D at 0x26af148e850>]"
            ]
          },
          "execution_count": 7,
          "metadata": {},
          "output_type": "execute_result"
        },
        {
          "data": {
            "image/png": "[encoded data removed]",
            "text/plain": [
              "<Figure size 432x288 with 1 Axes>"
            ]
          },
          "metadata": {
            "needs_background": "light"
          },
          "output_type": "display_data"
        }
      ],
      "source": [
        "ynew=A@w\n",
        "plt.plot(t,ynew,t,y)"
      ]
    },
    {
      "cell_type": "code",
      "execution_count": null,
      "metadata": {
        "colab": {
          "base_uri": "https://localhost:8080/"
        },
        "id": "4UISghovZgCx",
        "outputId": "3e3562aa-42e2-46a6-f978-6e4a8ba37a64"
      },
      "outputs": [
        {
          "data": {
            "text/plain": [
              "0.8166666666666668"
            ]
          },
          "execution_count": 18,
          "metadata": {
            "tags": []
          },
          "output_type": "execute_result"
        }
      ],
      "source": [
        "0.5*9.8/6\n"
      ]
    },
    {
      "cell_type": "code",
      "execution_count": null,
      "metadata": {
        "colab": {
          "base_uri": "https://localhost:8080/"
        },
        "id": "-oU_WUQQh6t7",
        "outputId": "b63becfe-1a1d-4cf2-f397-ac6dc9e7ff15"
      },
      "outputs": [
        {
          "name": "stdout",
          "output_type": "stream",
          "text": [
            "(20, 1) (20, 1)\n"
          ]
        }
      ],
      "source": [
        "x=t[:,np.newaxis]\n",
        "y=s[:,np.newaxis]\n",
        "num_basis=3\n",
        "basis_pow=np.arange(num_basis+1)\n",
        "basis_pow=basis_pow[np.newaxis,:]\n",
        "A=x**basis_pow\n",
        "w=np.linalg.inv(A.T@A)@(A.T@y)\n",
        "ynew=A@w\n",
        "plt.plot(x,y,x,ynew)"
      ]
    },
    {
      "cell_type": "code",
      "execution_count": null,
      "metadata": {
        "colab": {
          "base_uri": "https://localhost:8080/",
          "height": 299
        },
        "id": "T3gf2HJiitbP",
        "outputId": "ce023dd5-83c8-46e1-aab6-d09ba38efc2e"
      },
      "outputs": [
        {
          "data": {
            "text/plain": [
              "[<matplotlib.lines.Line2D at 0x7ff52a185f10>,\n",
              " <matplotlib.lines.Line2D at 0x7ff52a191150>]"
            ]
          },
          "execution_count": 48,
          "metadata": {
            "tags": []
          },
          "output_type": "execute_result"
        },
        {
          "data": {
            "image/png": "[encoded data removed]",
            "text/plain": [
              "<Figure size 432x288 with 1 Axes>"
            ]
          },
          "metadata": {
            "needs_background": "light",
            "tags": []
          },
          "output_type": "display_data"
        }
      ],
      "source": []
    },
    {
      "cell_type": "code",
      "execution_count": null,
      "metadata": {
        "colab": {
          "base_uri": "https://localhost:8080/"
        },
        "id": "tnwHhQ7Gi-SM",
        "outputId": "f0849648-2e37-47bb-f739-8891146ddad3"
      },
      "outputs": [
        {
          "name": "stdout",
          "output_type": "stream",
          "text": [
            "(20, 4) (4, 20)\n"
          ]
        }
      ],
      "source": [
        "print(A.shape, A.T.shape)"
      ]
    },
    {
      "cell_type": "code",
      "execution_count": null,
      "metadata": {
        "colab": {
          "base_uri": "https://localhost:8080/"
        },
        "id": "C6rKnhRxjPZw",
        "outputId": "b8e0ea39-5499-46a7-a1c6-188d8b4dd54b"
      },
      "outputs": [
        {
          "data": {
            "text/plain": [
              "array([[-2.18278728e-11],\n",
              "       [ 7.27595761e-12],\n",
              "       [ 8.16666667e-01],\n",
              "       [ 0.00000000e+00]])"
            ]
          },
          "execution_count": 49,
          "metadata": {
            "tags": []
          },
          "output_type": "execute_result"
        }
      ],
      "source": [
        "#f(t)=0.5*(9.8/6)*t^2\n",
        "w"
      ]
    },
    {
      "cell_type": "code",
      "execution_count": null,
      "metadata": {
        "colab": {
          "base_uri": "https://localhost:8080/"
        },
        "id": "rJ7UGYg8jgva",
        "outputId": "8b5b6ccc-7f5d-4e44-c903-62ab0e87e61c"
      },
      "outputs": [
        {
          "data": {
            "text/plain": [
              "0.8166666666666668"
            ]
          },
          "execution_count": 43,
          "metadata": {
            "tags": []
          },
          "output_type": "execute_result"
        }
      ],
      "source": [
        "0.5*9.8/6"
      ]
    },
    {
      "cell_type": "code",
      "execution_count": null,
      "metadata": {
        "id": "omtkwaXxkCpV"
      },
      "outputs": [],
      "source": []
    }
  ],
  "metadata": {
    "colab": {
      "name": "Gravity on Moon.ipynb",
      "provenance": []
    },
    "kernelspec": {
      "display_name": "Python 3",
      "name": "python3"
    },
    "language_info": {
      "codemirror_mode": {
        "name": "ipython",
        "version": 3
      },
      "file_extension": ".py",
      "mimetype": "text/x-python",
      "name": "python",
      "nbconvert_exporter": "python",
      "pygments_lexer": "ipython3",
      "version": "3.8.5"
    }
  },
  "nbformat": 4,
  "nbformat_minor": 0
}
