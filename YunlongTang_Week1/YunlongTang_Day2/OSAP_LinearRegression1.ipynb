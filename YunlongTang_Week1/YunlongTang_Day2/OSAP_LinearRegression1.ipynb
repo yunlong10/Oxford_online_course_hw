{
  "cells": [
    {
      "cell_type": "code",
      "execution_count": 1,
      "metadata": {
        "id": "Dtn5afpwICOM"
      },
      "outputs": [],
      "source": [
        "import pandas as pd\n",
        "import numpy as np\n",
        "import matplotlib.pyplot as plt"
      ]
    },
    {
      "cell_type": "code",
      "execution_count": null,
      "metadata": {
        "colab": {
          "base_uri": "https://localhost:8080/"
        },
        "id": "ffjTwZt8INlB",
        "outputId": "a6f981f4-c28f-4836-d68c-6a99562012dd"
      },
      "outputs": [
        {
          "name": "stdout",
          "output_type": "stream",
          "text": [
            "--2022-01-18 09:41:26--  https://www.dropbox.com/s/w5n763mnroln66v/globalTemp.csv?dl=0\n",
            "Resolving www.dropbox.com (www.dropbox.com)... 162.125.71.18, 2620:100:6021:18::a27d:4112\n",
            "Connecting to www.dropbox.com (www.dropbox.com)|162.125.71.18|:443... connected.\n",
            "HTTP request sent, awaiting response... 301 Moved Permanently\n",
            "Location: /s/raw/w5n763mnroln66v/globalTemp.csv [following]\n",
            "--2022-01-18 09:41:27--  https://www.dropbox.com/s/raw/w5n763mnroln66v/globalTemp.csv\n",
            "Reusing existing connection to www.dropbox.com:443.\n",
            "HTTP request sent, awaiting response... 302 Found\n",
            "Location: https://uc7b662650ea9f0f5ec621993c95.dl-eu.dropboxusercontent.com/cd/0/inline/BeBwUydFXVVco6d1tsoEVWDUx9DEsIhsOazLBFb2hXS30yvI8heEJYHXGDZQPGrnXBtvgykNT0H_awjUoSGgdPDo-9jHL20yCLV585OjzOrhtVKeQVAJD1X7XShZGSxEIDOkQvj86rAGgRBo8hu9G9dq/file# [following]\n",
            "--2022-01-18 09:41:27--  https://uc7b662650ea9f0f5ec621993c95.dl-eu.dropboxusercontent.com/cd/0/inline/BeBwUydFXVVco6d1tsoEVWDUx9DEsIhsOazLBFb2hXS30yvI8heEJYHXGDZQPGrnXBtvgykNT0H_awjUoSGgdPDo-9jHL20yCLV585OjzOrhtVKeQVAJD1X7XShZGSxEIDOkQvj86rAGgRBo8hu9G9dq/file\n",
            "Resolving uc7b662650ea9f0f5ec621993c95.dl-eu.dropboxusercontent.com (uc7b662650ea9f0f5ec621993c95.dl-eu.dropboxusercontent.com)... 162.125.65.15, 2620:100:6021:15::a27d:410f\n",
            "Connecting to uc7b662650ea9f0f5ec621993c95.dl-eu.dropboxusercontent.com (uc7b662650ea9f0f5ec621993c95.dl-eu.dropboxusercontent.com)|162.125.65.15|:443... connected.\n",
            "HTTP request sent, awaiting response... 200 OK\n",
            "Length: 2950 (2.9K) [text/plain]\n",
            "Saving to: ‘globalTemp.csv’\n",
            "\n",
            "globalTemp.csv      100%[===================>]   2.88K  --.-KB/s    in 0s      \n",
            "\n",
            "2022-01-18 09:41:28 (596 MB/s) - ‘globalTemp.csv’ saved [2950/2950]\n",
            "\n"
          ]
        }
      ],
      "source": [
        "#data from: https://www.jpl.nasa.gov/edu/teach/activity/graphing-global-temperature-trends/\n",
        "!wget -O globalTemp.csv https://www.dropbox.com/s/w5n763mnroln66v/globalTemp.csv?dl=0"
      ]
    },
    {
      "cell_type": "code",
      "execution_count": 2,
      "metadata": {
        "id": "jv1hb3IWIdUm"
      },
      "outputs": [],
      "source": [
        "df=pd.read_csv('globalTemp.csv')"
      ]
    },
    {
      "cell_type": "code",
      "execution_count": 13,
      "metadata": {
        "id": "wjtbGAitIncx"
      },
      "outputs": [],
      "source": [
        "x = df['Year'].to_numpy()\n",
        "y = df['Actual Temp'].to_numpy()"
      ]
    },
    {
      "cell_type": "code",
      "execution_count": 14,
      "metadata": {
        "id": "-j6VCeWNmIjL"
      },
      "outputs": [
        {
          "name": "stdout",
          "output_type": "stream",
          "text": [
            "(137, 4)\n"
          ]
        }
      ],
      "source": [
        "#linear Regression here\n",
        "num_basis=4\n",
        "basis=np.arange(num_basis)\n",
        "x=x[:,np.newaxis]\n",
        "basis=basis[np.newaxis,:]\n",
        "A=x**basis\n",
        "print(A.shape)"
      ]
    },
    {
      "cell_type": "code",
      "execution_count": 15,
      "metadata": {},
      "outputs": [],
      "source": [
        "y=y[:,np.newaxis]\n",
        "w=np.linalg.inv(A.T@A)@(A.T@y)"
      ]
    },
    {
      "cell_type": "code",
      "execution_count": 16,
      "metadata": {},
      "outputs": [
        {
          "data": {
            "text/plain": [
              "[<matplotlib.lines.Line2D at 0x247f6699e80>,\n",
              " <matplotlib.lines.Line2D at 0x247f6699f40>]"
            ]
          },
          "execution_count": 16,
          "metadata": {},
          "output_type": "execute_result"
        },
        {
          "data": {
            "image/png": "[encoded data removed]",
            "text/plain": [
              "<Figure size 432x288 with 1 Axes>"
            ]
          },
          "metadata": {
            "needs_background": "light"
          },
          "output_type": "display_data"
        }
      ],
      "source": [
        "ynew=A@w\n",
        "plt.plot(x,ynew,x,y)"
      ]
    },
    {
      "cell_type": "code",
      "execution_count": 7,
      "metadata": {},
      "outputs": [
        {
          "data": {
            "text/plain": [
              "array([[ 2.96387020e+02],\n",
              "       [-2.96922881e-01],\n",
              "       [ 7.79627649e-05],\n",
              "       [-1.08859566e-17]])"
            ]
          },
          "execution_count": 7,
          "metadata": {},
          "output_type": "execute_result"
        }
      ],
      "source": [
        "w"
      ]
    },
    {
      "cell_type": "code",
      "execution_count": 33,
      "metadata": {
        "id": "T2mwBDMeIfBX"
      },
      "outputs": [],
      "source": [
        "df=df[(df['Year']>1943) & (df['Year']<1975)]\n",
        "x = df['Year'].to_numpy()\n",
        "y = df['Actual Temp'].to_numpy()"
      ]
    },
    {
      "cell_type": "code",
      "execution_count": 34,
      "metadata": {
        "id": "7uBvmzeslxaN"
      },
      "outputs": [
        {
          "name": "stdout",
          "output_type": "stream",
          "text": [
            "(31, 4)\n"
          ]
        }
      ],
      "source": [
        "#linear Regression here#\n",
        "num_basis=4\n",
        "basis=np.arange(num_basis)\n",
        "x=x[:,np.newaxis]\n",
        "basis=basis[np.newaxis,:]\n",
        "A=x**basis\n",
        "print(A.shape)"
      ]
    },
    {
      "cell_type": "code",
      "execution_count": 35,
      "metadata": {},
      "outputs": [],
      "source": [
        "y=y[:,np.newaxis]\n",
        "w=np.linalg.inv(A.T@A)@(A.T@y)"
      ]
    },
    {
      "cell_type": "code",
      "execution_count": 36,
      "metadata": {},
      "outputs": [
        {
          "data": {
            "text/plain": [
              "[<matplotlib.lines.Line2D at 0x247f687b610>,\n",
              " <matplotlib.lines.Line2D at 0x247f687b6d0>]"
            ]
          },
          "execution_count": 36,
          "metadata": {},
          "output_type": "execute_result"
        },
        {
          "data": {
            "image/png": "[encoded data removed]",
            "text/plain": [
              "<Figure size 432x288 with 1 Axes>"
            ]
          },
          "metadata": {
            "needs_background": "light"
          },
          "output_type": "display_data"
        }
      ],
      "source": [
        "ynew=A@w\n",
        "plt.plot(x,ynew,x,y)"
      ]
    }
  ],
  "metadata": {
    "colab": {
      "collapsed_sections": [],
      "name": "OSAP_LinearRegression1.ipynb",
      "provenance": []
    },
    "kernelspec": {
      "display_name": "Python 3",
      "name": "python3"
    },
    "language_info": {
      "codemirror_mode": {
        "name": "ipython",
        "version": 3
      },
      "file_extension": ".py",
      "mimetype": "text/x-python",
      "name": "python",
      "nbconvert_exporter": "python",
      "pygments_lexer": "ipython3",
      "version": "3.8.5"
    }
  },
  "nbformat": 4,
  "nbformat_minor": 0
}
